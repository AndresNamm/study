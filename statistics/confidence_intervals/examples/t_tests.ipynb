{
 "cells": [
  {
   "attachments": {},
   "cell_type": "markdown",
   "metadata": {},
   "source": [
    "# CONFIGURATION\n",
    "\n",
    "You need to configure DATAPATH variable according to your environment. "
   ]
  },
  {
   "attachments": {},
   "cell_type": "markdown",
   "metadata": {},
   "source": [
    "# ONE-SAMPLE T-test example\n",
    "\n",
    "https://www.jmp.com/en_sg/statistics-knowledge-portal/t-test/one-sample-t-test.html\n",
    "\n",
    "+ Some notes for this tutorial\n",
    "  + It claims you need to have normal distribution for the data to perform t-test. This is not entirely true because CLT transforms any distribution means into normal distribution with large enough sample sizes.\n"
   ]
  },
  {
   "cell_type": "code",
   "execution_count": 2,
   "metadata": {},
   "outputs": [],
   "source": [
    "import numpy as np\n",
    "from typing import List\n",
    "# https://www.jmp.com/en_sg/statistics-knowledge-portal/t-test/one-sample-t-test.html\n",
    "# Based on the example in the link above\n",
    "protein_in_energy_bar_str_list:List[str] = \"\"\"\n",
    "20.70\t27.46\t22.15\t19.85\t21.29\t24.75\n",
    "20.75\t22.91\t25.34\t20.33\t21.54\t21.08\n",
    "22.14\t19.56\t21.10\t18.04\t24.12\t19.95\n",
    "19.72\t18.28\t16.26\t17.46\t20.53\t22.12\n",
    "25.06\t22.44\t19.08\t19.88\t21.39\t22.33\t25.79\"\"\".split()\n",
    "\n",
    "protein_in_energy_bar_f_list:List[float] = [float(x) for x in protein_in_energy_bar_str_list]\n",
    "protein_in_energy_bar_np = np.array(protein_in_energy_bar_f_list)\n"
   ]
  },
  {
   "attachments": {},
   "cell_type": "markdown",
   "metadata": {},
   "source": [
    "The producer of the Energy Bar has claimed that the bar has 20g on energy on average. Our purpose is to check whether this fact is true. To test it we perform a 2 sided t-test"
   ]
  },
  {
   "cell_type": "code",
   "execution_count": 3,
   "metadata": {},
   "outputs": [
    {
     "name": "stdout",
     "output_type": "stream",
     "text": [
      "Reject the null hypothesis\n",
      "t value:  3.0668316352840814\n",
      "t critical value:  2.0422724563012373\n"
     ]
    }
   ],
   "source": [
    "# We don't know the population standard deviation, so we use the sample standard deviation\n",
    "# to estimate the population standard deviation\n",
    "sample_std = np.std(protein_in_energy_bar_np, ddof=1)\n",
    "sample_mean = np.mean(protein_in_energy_bar_np)\n",
    "\n",
    "# Calculate the standard error of the mean. \n",
    "# Also considered the standard deviation of the sampling distribution over sample means.\n",
    "ci_std = sample_std / np.sqrt(len(protein_in_energy_bar_np))\n",
    "\n",
    "# Calculate the t value for the mean of the sample.\n",
    "t_value = np.abs(20 - sample_mean) / ci_std\n",
    "\n",
    "# 95 % confidene t-test\n",
    "from scipy.stats import t\n",
    "confidence_for_t_test = 0.95\n",
    "\n",
    "# Calculate the t critical value for 95% confidence for 2 sided t-test\n",
    "t_critical = np.abs(t.ppf((1-confidence_for_t_test)/2, len(protein_in_energy_bar_np) - 1))\n",
    "\n",
    "# Compare the t value with the t critical value and print out the result\n",
    "if t_value > t_critical:\n",
    "    print(\"Reject the null hypothesis\")\n",
    "else:\n",
    "    print(\"Fail to reject the null hypothesis\")\n",
    "\n",
    "# Print t value\n",
    "print(\"t value: \", t_value)\n",
    "print(\"t critical value: \", t_critical)\n"
   ]
  },
  {
   "attachments": {},
   "cell_type": "markdown",
   "metadata": {},
   "source": [
    "# COMPARING 2 SAMPLE T-TEST SIMPLE\n",
    "\n",
    "Comparing Field A and B height of the plants.\n",
    "\n",
    "+ [My summarized intro to the topic](https://github.com/AndresNamm/study/blob/main/statistics/confidence_intervals/hypothesis_testing.md)\n",
    "+ [Khan Academy tutorial](https://www.khanacademy.org/math/ap-statistics/xfb5d8e68:inference-quantitative-means/two-sample-t-test-means/v/two-sample-t-test-for-difference-of-means)\n"
   ]
  },
  {
   "cell_type": "code",
   "execution_count": 4,
   "metadata": {},
   "outputs": [],
   "source": [
    "field_a_mean = 1.3 \n",
    "field_b_mean = 1.6\n",
    "field_a_sample_size = 22\n",
    "field_b_sample_size = 24\n",
    "field_a_std = 0.5\n",
    "field_b_std = 0.3"
   ]
  },
  {
   "cell_type": "code",
   "execution_count": 5,
   "metadata": {},
   "outputs": [
    {
     "name": "stdout",
     "output_type": "stream",
     "text": [
      "Reject the null hypothesis\n",
      "t value:  2.440263759933568\n",
      "t critical value:  2.015367569912941\n",
      "p_value:  0.02362742511217169\n",
      "p_critical:  0.025000000000000022\n"
     ]
    }
   ],
   "source": [
    "import numpy as np\n",
    "from scipy.stats import t\n",
    "confidence_for_t_test = 0.95\n",
    "p_critical = (1 - confidence_for_t_test)/2\n",
    "differece_in_means = field_b_mean - field_a_mean\n",
    "# Calculate the Pooled Standard Deviation\n",
    "difference_of_means_std = np.sqrt(np.square(field_a_std)/field_a_sample_size + np.square(field_b_std)/field_b_sample_size)#\n",
    "# Calculate the t value for the mean of the sample.\n",
    "t_value = np.abs(differece_in_means) / difference_of_means_std \n",
    "# 95 % confidene t-test\n",
    "# Get the t critical value for 95% confidence for 2 sided t-test\n",
    "# Aka, get the t value that is 2.5% on each side of the distribution\n",
    "t_critical = np.abs(t.ppf(p_critical, field_a_sample_size + field_b_sample_size - 2))\n",
    "# Compare the t value with the t critical value and print out the result\n",
    "if t_value > t_critical:\n",
    "    print(\"Reject the null hypothesis\")\n",
    "else:\n",
    "    print(\"Fail to reject the null hypothesis\")\n",
    "# Print t value\n",
    "print(\"t value: \", t_value)\n",
    "print(\"t critical value: \", t_critical)\n",
    "# Print p value for the t test\n",
    "p_value = 2 * t.cdf(-t_value, min(field_a_sample_size,field_b_sample_size) - 1)\n",
    "print(\"p_value: \",p_value)\n",
    "# Print p value for the t critical value\n",
    "print(\"p_critical: \",p_critical)\n"
   ]
  },
  {
   "attachments": {},
   "cell_type": "markdown",
   "metadata": {},
   "source": [
    "# COMPARING 2 SAMPLES T-TEST"
   ]
  },
  {
   "cell_type": "code",
   "execution_count": 16,
   "metadata": {},
   "outputs": [
    {
     "name": "stdout",
     "output_type": "stream",
     "text": [
      "https://raw.githubusercontent.com/AndresNamm/study/main/statistics/confidence_intervals/examples/River_pH.csv\n"
     ]
    },
    {
     "data": {
      "text/html": [
       "<div>\n",
       "<style scoped>\n",
       "    .dataframe tbody tr th:only-of-type {\n",
       "        vertical-align: middle;\n",
       "    }\n",
       "\n",
       "    .dataframe tbody tr th {\n",
       "        vertical-align: top;\n",
       "    }\n",
       "\n",
       "    .dataframe thead th {\n",
       "        text-align: right;\n",
       "    }\n",
       "</style>\n",
       "<table border=\"1\" class=\"dataframe\">\n",
       "  <thead>\n",
       "    <tr style=\"text-align: right;\">\n",
       "      <th></th>\n",
       "      <th>River_name</th>\n",
       "      <th>pH</th>\n",
       "    </tr>\n",
       "  </thead>\n",
       "  <tbody>\n",
       "    <tr>\n",
       "      <th>0</th>\n",
       "      <td>A</td>\n",
       "      <td>8.968143</td>\n",
       "    </tr>\n",
       "    <tr>\n",
       "      <th>1</th>\n",
       "      <td>A</td>\n",
       "      <td>9.119740</td>\n",
       "    </tr>\n",
       "    <tr>\n",
       "      <th>2</th>\n",
       "      <td>A</td>\n",
       "      <td>9.413058</td>\n",
       "    </tr>\n",
       "    <tr>\n",
       "      <th>3</th>\n",
       "      <td>A</td>\n",
       "      <td>8.665746</td>\n",
       "    </tr>\n",
       "    <tr>\n",
       "      <th>4</th>\n",
       "      <td>A</td>\n",
       "      <td>9.937042</td>\n",
       "    </tr>\n",
       "    <tr>\n",
       "      <th>5</th>\n",
       "      <td>A</td>\n",
       "      <td>8.280083</td>\n",
       "    </tr>\n",
       "    <tr>\n",
       "      <th>6</th>\n",
       "      <td>A</td>\n",
       "      <td>7.864158</td>\n",
       "    </tr>\n",
       "    <tr>\n",
       "      <th>7</th>\n",
       "      <td>A</td>\n",
       "      <td>7.509577</td>\n",
       "    </tr>\n",
       "    <tr>\n",
       "      <th>8</th>\n",
       "      <td>A</td>\n",
       "      <td>9.181173</td>\n",
       "    </tr>\n",
       "    <tr>\n",
       "      <th>9</th>\n",
       "      <td>A</td>\n",
       "      <td>7.676255</td>\n",
       "    </tr>\n",
       "    <tr>\n",
       "      <th>10</th>\n",
       "      <td>B</td>\n",
       "      <td>6.670441</td>\n",
       "    </tr>\n",
       "    <tr>\n",
       "      <th>11</th>\n",
       "      <td>B</td>\n",
       "      <td>5.828061</td>\n",
       "    </tr>\n",
       "    <tr>\n",
       "      <th>12</th>\n",
       "      <td>B</td>\n",
       "      <td>6.840394</td>\n",
       "    </tr>\n",
       "    <tr>\n",
       "      <th>13</th>\n",
       "      <td>B</td>\n",
       "      <td>6.860779</td>\n",
       "    </tr>\n",
       "    <tr>\n",
       "      <th>14</th>\n",
       "      <td>B</td>\n",
       "      <td>5.892154</td>\n",
       "    </tr>\n",
       "    <tr>\n",
       "      <th>15</th>\n",
       "      <td>B</td>\n",
       "      <td>7.422487</td>\n",
       "    </tr>\n",
       "    <tr>\n",
       "      <th>16</th>\n",
       "      <td>B</td>\n",
       "      <td>6.563322</td>\n",
       "    </tr>\n",
       "    <tr>\n",
       "      <th>17</th>\n",
       "      <td>B</td>\n",
       "      <td>5.993992</td>\n",
       "    </tr>\n",
       "    <tr>\n",
       "      <th>18</th>\n",
       "      <td>B</td>\n",
       "      <td>5.326895</td>\n",
       "    </tr>\n",
       "    <tr>\n",
       "      <th>19</th>\n",
       "      <td>B</td>\n",
       "      <td>6.687078</td>\n",
       "    </tr>\n",
       "  </tbody>\n",
       "</table>\n",
       "</div>"
      ],
      "text/plain": [
       "   River_name        pH\n",
       "0           A  8.968143\n",
       "1           A  9.119740\n",
       "2           A  9.413058\n",
       "3           A  8.665746\n",
       "4           A  9.937042\n",
       "5           A  8.280083\n",
       "6           A  7.864158\n",
       "7           A  7.509577\n",
       "8           A  9.181173\n",
       "9           A  7.676255\n",
       "10          B  6.670441\n",
       "11          B  5.828061\n",
       "12          B  6.840394\n",
       "13          B  6.860779\n",
       "14          B  5.892154\n",
       "15          B  7.422487\n",
       "16          B  6.563322\n",
       "17          B  5.993992\n",
       "18          B  5.326895\n",
       "19          B  6.687078"
      ]
     },
     "execution_count": 16,
     "metadata": {},
     "output_type": "execute_result"
    }
   ],
   "source": [
    "import pandas as pd \n",
    "url=\"https://raw.githubusercontent.com/AndresNamm/study/main/statistics/confidence_intervals/examples/River_pH.csv\"\n",
    "print(url)\n",
    "df = pd.read_csv(url)\n",
    "df"
   ]
  },
  {
   "attachments": {},
   "cell_type": "markdown",
   "metadata": {},
   "source": [
    "# COMPARING 2 SAMPLES BINOMIAL T-TEST \n",
    "\n",
    "+ [Here an example test is done](https://www.coursera.org/learn/stanford-statistics/lecture/nQB9A/the-two-Tsample-z-test)\n"
   ]
  }
 ],
 "metadata": {
  "kernelspec": {
   "display_name": "Python 3",
   "language": "python",
   "name": "python3"
  },
  "language_info": {
   "codemirror_mode": {
    "name": "ipython",
    "version": 3
   },
   "file_extension": ".py",
   "mimetype": "text/x-python",
   "name": "python",
   "nbconvert_exporter": "python",
   "pygments_lexer": "ipython3",
   "version": "3.8.10"
  },
  "orig_nbformat": 4,
  "vscode": {
   "interpreter": {
    "hash": "916dbcbb3f70747c44a77c7bcd40155683ae19c65e1c03b4aa3499c5328201f1"
   }
  }
 },
 "nbformat": 4,
 "nbformat_minor": 2
}
