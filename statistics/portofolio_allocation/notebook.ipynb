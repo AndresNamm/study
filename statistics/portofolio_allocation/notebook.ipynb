{
 "cells": [
  {
   "cell_type": "markdown",
   "metadata": {},
   "source": [
    "https://www.mlq.ai/python-for-finance-portfolio-optimization/"
   ]
  },
  {
   "cell_type": "code",
   "execution_count": null,
   "metadata": {},
   "outputs": [],
   "source": [
    "# get just the Adj Close column of FB, AMZN, AAPL, IBM\n",
    "fb = q.get('WIKI/FB.11', start_date=start, end_date=end)\n",
    "amzn = q.get('WIKI/AMZN.11', start_date=start, end_date=end)\n",
    "aapl = q.get('WIKI/AAPL.11', start_date=start, end_date=end)\n",
    "ibm = q.get('WIKI/IBM.11', start_date=start, end_date=end)"
   ]
  },
  {
   "cell_type": "code",
   "execution_count": 2,
   "metadata": {},
   "outputs": [],
   "source": [
    "import pandas"
   ]
  },
  {
   "cell_type": "code",
   "execution_count": null,
   "metadata": {},
   "outputs": [],
   "source": []
  }
 ],
 "metadata": {
  "kernelspec": {
   "display_name": "Python 3.8.10 ('.venv': venv)",
   "language": "python",
   "name": "python3"
  },
  "language_info": {
   "codemirror_mode": {
    "name": "ipython",
    "version": 3
   },
   "file_extension": ".py",
   "mimetype": "text/x-python",
   "name": "python",
   "nbconvert_exporter": "python",
   "pygments_lexer": "ipython3",
   "version": "3.8.10"
  },
  "orig_nbformat": 4,
  "vscode": {
   "interpreter": {
    "hash": "6c6cdbe91397bdf6a4cc6f8fdbe2a3c841d48a3e4d5b701aace5abfa4fb577fe"
   }
  }
 },
 "nbformat": 4,
 "nbformat_minor": 2
}
